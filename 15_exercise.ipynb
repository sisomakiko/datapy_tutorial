{
 "cells": [
  {
   "cell_type": "markdown",
   "metadata": {},
   "source": [
    "# Exercise"
   ]
  },
  {
   "cell_type": "markdown",
   "metadata": {},
   "source": [
    "### 自分の解答"
   ]
  },
  {
   "cell_type": "code",
   "execution_count": 3,
   "metadata": {},
   "outputs": [],
   "source": [
    "def naming_file(filenames):\n",
    "    \n",
    "    return_filename = []\n",
    "    \n",
    "    for idx, filename in enumerate(filenames):\n",
    "        return_filename.append(filename+'_'+str(idx)+'.png')\n",
    "\n",
    "    return return_filename"
   ]
  },
  {
   "cell_type": "code",
   "execution_count": 4,
   "metadata": {},
   "outputs": [
    {
     "data": {
      "text/plain": [
       "['filename1_0.png', 'filename2_1.png', 'filename3_2.png']"
      ]
     },
     "execution_count": 4,
     "metadata": {},
     "output_type": "execute_result"
    }
   ],
   "source": [
    "filename_list = ['filename1', 'filename2', 'filename3']\n",
    "naming_file(filename_list)"
   ]
  },
  {
   "cell_type": "markdown",
   "metadata": {},
   "source": [
    "### 解答１"
   ]
  },
  {
   "cell_type": "code",
   "execution_count": 5,
   "metadata": {},
   "outputs": [],
   "source": [
    "def add_png(filename_list):\n",
    "    \"\"\"\n",
    "    各要素に，'_<その要素のindex番号>.png'を付けたリストを返す\n",
    "    \n",
    "    Parameters\n",
    "    -----------------\n",
    "        filename_list: ファイル名のリスト\n",
    "    \n",
    "    Return\n",
    "    -----------------\n",
    "        result_list: filename_listの各要素に，'_<その要素のindex番号>.png'を付けたリスト\n",
    "    \"\"\"\n",
    "    \n",
    "    result_list = []\n",
    "    \n",
    "    for idx, filename in enumerate(filename_list):\n",
    "        result_list.append('{}_{}.png'.format(filename, idx))\n",
    "        \n",
    "    return result_list"
   ]
  },
  {
   "cell_type": "code",
   "execution_count": 6,
   "metadata": {},
   "outputs": [
    {
     "data": {
      "text/plain": [
       "['filename1_0.png', 'filename2_1.png', 'filename3_2.png']"
      ]
     },
     "execution_count": 6,
     "metadata": {},
     "output_type": "execute_result"
    }
   ],
   "source": [
    "filename_list = ['filename1', 'filename2', 'filename3']\n",
    "add_png(filename_list)"
   ]
  },
  {
   "cell_type": "markdown",
   "metadata": {},
   "source": [
    "### 解答2（リスト内包表記）"
   ]
  },
  {
   "cell_type": "code",
   "execution_count": 7,
   "metadata": {},
   "outputs": [
    {
     "data": {
      "text/plain": [
       "[10, 20, 30]"
      ]
     },
     "execution_count": 7,
     "metadata": {},
     "output_type": "execute_result"
    }
   ],
   "source": [
    "a = [1, 2, 3]\n",
    "# b = [10, 20, 30]\n",
    "\n",
    "[i * 10 for i in a]"
   ]
  },
  {
   "cell_type": "code",
   "execution_count": 8,
   "metadata": {},
   "outputs": [],
   "source": [
    "def add_png(filename_list):\n",
    "    \"\"\"\n",
    "    各要素に，'_<その要素のindex番号>.png'を付けたリストを返す\n",
    "    \n",
    "    Parameters\n",
    "    -----------------\n",
    "        filename_list: ファイル名のリスト\n",
    "    \n",
    "    Return\n",
    "    -----------------\n",
    "        result_list: filename_listの各要素に，'_<その要素のindex番号>.png'を付けたリスト\n",
    "    \"\"\"\n",
    "    \n",
    "    result_list = ['{}_{}.png'.format(filename, idx) for idx, filename in enumerate(filename_list)]\n",
    "        \n",
    "    return result_list"
   ]
  },
  {
   "cell_type": "code",
   "execution_count": 9,
   "metadata": {},
   "outputs": [
    {
     "data": {
      "text/plain": [
       "['filename1_0.png', 'filename2_1.png', 'filename3_2.png']"
      ]
     },
     "execution_count": 9,
     "metadata": {},
     "output_type": "execute_result"
    }
   ],
   "source": [
    "filename_list = ['filename1', 'filename2', 'filename3']\n",
    "add_png(filename_list)"
   ]
  },
  {
   "cell_type": "code",
   "execution_count": null,
   "metadata": {},
   "outputs": [],
   "source": []
  }
 ],
 "metadata": {
  "kernelspec": {
   "display_name": "Python 3",
   "language": "python",
   "name": "python3"
  },
  "language_info": {
   "codemirror_mode": {
    "name": "ipython",
    "version": 3
   },
   "file_extension": ".py",
   "mimetype": "text/x-python",
   "name": "python",
   "nbconvert_exporter": "python",
   "pygments_lexer": "ipython3",
   "version": "3.7.6"
  }
 },
 "nbformat": 4,
 "nbformat_minor": 4
}
