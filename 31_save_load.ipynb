{
 "cells": [
  {
   "cell_type": "markdown",
   "metadata": {},
   "source": [
    "## np.save('path', array) と np.load('path')"
   ]
  },
  {
   "cell_type": "code",
   "execution_count": 2,
   "metadata": {},
   "outputs": [],
   "source": [
    "import numpy as np"
   ]
  },
  {
   "cell_type": "code",
   "execution_count": 3,
   "metadata": {},
   "outputs": [
    {
     "data": {
      "text/plain": [
       "(3, 4, 5)"
      ]
     },
     "execution_count": 3,
     "metadata": {},
     "output_type": "execute_result"
    }
   ],
   "source": [
    "ndarray = np.random.randn(3, 4, 5)\n",
    "ndarray.shape"
   ]
  },
  {
   "cell_type": "code",
   "execution_count": 4,
   "metadata": {},
   "outputs": [],
   "source": [
    "np.save('sample_ndarray.npy', ndarray)"
   ]
  },
  {
   "cell_type": "code",
   "execution_count": 7,
   "metadata": {},
   "outputs": [
    {
     "data": {
      "text/plain": [
       "(3, 4, 5)"
      ]
     },
     "execution_count": 7,
     "metadata": {},
     "output_type": "execute_result"
    }
   ],
   "source": [
    "loaded_ndarray = np.load('sample_ndarray.npy')\n",
    "loaded_ndarray.shape"
   ]
  },
  {
   "cell_type": "code",
   "execution_count": 11,
   "metadata": {},
   "outputs": [],
   "source": [
    "dictionary = {\n",
    "    'id': 123456,\n",
    "    'image': ndarray\n",
    "}"
   ]
  },
  {
   "cell_type": "code",
   "execution_count": 12,
   "metadata": {},
   "outputs": [
    {
     "data": {
      "text/plain": [
       "{'id': 123456,\n",
       " 'image': array([[[-0.30548301, -0.23467666,  0.07932981, -0.645987  ,\n",
       "          -1.09584587],\n",
       "         [-0.49219161,  1.09348996, -0.18668827, -1.35464883,\n",
       "           1.33144048],\n",
       "         [ 1.82085186, -1.06500034,  0.56461718,  0.94624977,\n",
       "           1.2942631 ],\n",
       "         [-1.26082849,  0.82303854, -0.38513852,  0.28618911,\n",
       "           0.090977  ]],\n",
       " \n",
       "        [[-0.85427051, -0.54248794,  0.52794184,  0.15331575,\n",
       "          -0.85145292],\n",
       "         [ 0.12987807, -0.12583697,  2.06878894, -0.20919879,\n",
       "           0.97274196],\n",
       "         [-1.3938843 , -1.42187446, -0.01997902, -0.66107979,\n",
       "          -1.1525681 ],\n",
       "         [-1.39286542, -0.5945195 , -0.06240908,  1.46349018,\n",
       "          -0.82119912]],\n",
       " \n",
       "        [[-0.33525964,  1.95707986, -0.31844782, -0.3607348 ,\n",
       "          -1.88165624],\n",
       "         [ 1.42188222, -2.48850461,  0.06478204, -1.16020544,\n",
       "           0.61447148],\n",
       "         [-0.49309464,  1.86482492,  0.14737717,  1.96289967,\n",
       "          -1.46137959],\n",
       "         [-0.09902593,  1.55332569,  1.11424536, -1.60209141,\n",
       "           0.13379577]]])}"
      ]
     },
     "execution_count": 12,
     "metadata": {},
     "output_type": "execute_result"
    }
   ],
   "source": [
    "dictionary"
   ]
  },
  {
   "cell_type": "code",
   "execution_count": 13,
   "metadata": {},
   "outputs": [],
   "source": [
    "np.save('sample_dict.npy', dictionary)"
   ]
  },
  {
   "cell_type": "code",
   "execution_count": 15,
   "metadata": {},
   "outputs": [
    {
     "data": {
      "text/plain": [
       "array({'id': 123456, 'image': array([[[-0.30548301, -0.23467666,  0.07932981, -0.645987  ,\n",
       "         -1.09584587],\n",
       "        [-0.49219161,  1.09348996, -0.18668827, -1.35464883,\n",
       "          1.33144048],\n",
       "        [ 1.82085186, -1.06500034,  0.56461718,  0.94624977,\n",
       "          1.2942631 ],\n",
       "        [-1.26082849,  0.82303854, -0.38513852,  0.28618911,\n",
       "          0.090977  ]],\n",
       "\n",
       "       [[-0.85427051, -0.54248794,  0.52794184,  0.15331575,\n",
       "         -0.85145292],\n",
       "        [ 0.12987807, -0.12583697,  2.06878894, -0.20919879,\n",
       "          0.97274196],\n",
       "        [-1.3938843 , -1.42187446, -0.01997902, -0.66107979,\n",
       "         -1.1525681 ],\n",
       "        [-1.39286542, -0.5945195 , -0.06240908,  1.46349018,\n",
       "         -0.82119912]],\n",
       "\n",
       "       [[-0.33525964,  1.95707986, -0.31844782, -0.3607348 ,\n",
       "         -1.88165624],\n",
       "        [ 1.42188222, -2.48850461,  0.06478204, -1.16020544,\n",
       "          0.61447148],\n",
       "        [-0.49309464,  1.86482492,  0.14737717,  1.96289967,\n",
       "         -1.46137959],\n",
       "        [-0.09902593,  1.55332569,  1.11424536, -1.60209141,\n",
       "          0.13379577]]])}, dtype=object)"
      ]
     },
     "execution_count": 15,
     "metadata": {},
     "output_type": "execute_result"
    }
   ],
   "source": [
    "np.load('sample_dict.npy', allow_pickle=True)"
   ]
  },
  {
   "cell_type": "code",
   "execution_count": 16,
   "metadata": {},
   "outputs": [],
   "source": [
    "a = np.array({'a':1})"
   ]
  },
  {
   "cell_type": "code",
   "execution_count": 17,
   "metadata": {},
   "outputs": [
    {
     "data": {
      "text/plain": [
       "{'a': 1}"
      ]
     },
     "execution_count": 17,
     "metadata": {},
     "output_type": "execute_result"
    }
   ],
   "source": [
    "# dictionaryをとりｄ\n",
    "a[()]"
   ]
  },
  {
   "cell_type": "code",
   "execution_count": null,
   "metadata": {},
   "outputs": [],
   "source": []
  }
 ],
 "metadata": {
  "kernelspec": {
   "display_name": "Python 3",
   "language": "python",
   "name": "python3"
  },
  "language_info": {
   "codemirror_mode": {
    "name": "ipython",
    "version": 3
   },
   "file_extension": ".py",
   "mimetype": "text/x-python",
   "name": "python",
   "nbconvert_exporter": "python",
   "pygments_lexer": "ipython3",
   "version": "3.7.6"
  }
 },
 "nbformat": 4,
 "nbformat_minor": 4
}
