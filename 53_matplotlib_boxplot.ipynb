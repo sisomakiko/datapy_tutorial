{
 "cells": [
  {
   "cell_type": "markdown",
   "metadata": {},
   "source": [
    "# 箱ひげ図（boxplot）"
   ]
  },
  {
   "cell_type": "code",
   "execution_count": 1,
   "metadata": {},
   "outputs": [],
   "source": [
    "import numpy as np\n",
    "import pandas as pd\n",
    "\n",
    "import matplotlib.pyplot as plt\n",
    "%matplotlib inline"
   ]
  },
  {
   "cell_type": "code",
   "execution_count": 2,
   "metadata": {},
   "outputs": [
    {
     "data": {
      "text/plain": [
       "{'whiskers': [<matplotlib.lines.Line2D at 0x7f06b726e450>,\n",
       "  <matplotlib.lines.Line2D at 0x7f06b7263590>],\n",
       " 'caps': [<matplotlib.lines.Line2D at 0x7f06b7274890>,\n",
       "  <matplotlib.lines.Line2D at 0x7f06b7251450>],\n",
       " 'boxes': [<matplotlib.lines.Line2D at 0x7f06b7274910>],\n",
       " 'medians': [<matplotlib.lines.Line2D at 0x7f06b72636d0>],\n",
       " 'fliers': [<matplotlib.lines.Line2D at 0x7f06b7242550>],\n",
       " 'means': []}"
      ]
     },
     "execution_count": 2,
     "metadata": {},
     "output_type": "execute_result"
    },
    {
     "data": {
      "image/png": "[encoded data removed]",
      "text/plain": [
       "<Figure size 432x288 with 1 Axes>"
      ]
     },
     "metadata": {
      "needs_background": "light"
     },
     "output_type": "display_data"
    }
   ],
   "source": [
    "df = pd.read_csv('archive/tmdb_5000_movies.csv')\n",
    "plt.boxplot(df['vote_average'])"
   ]
  }
 ],
 "metadata": {
  "kernelspec": {
   "display_name": "Python 3",
   "language": "python",
   "name": "python3"
  },
  "language_info": {
   "codemirror_mode": {
    "name": "ipython",
    "version": 3
   },
   "file_extension": ".py",
   "mimetype": "text/x-python",
   "name": "python",
   "nbconvert_exporter": "python",
   "pygments_lexer": "ipython3",
   "version": "3.7.6"
  }
 },
 "nbformat": 4,
 "nbformat_minor": 4
}
